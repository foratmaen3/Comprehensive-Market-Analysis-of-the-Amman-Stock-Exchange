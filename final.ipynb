{
  "nbformat": 4,
  "nbformat_minor": 0,
  "metadata": {
    "colab": {
      "provenance": []
    },
    "kernelspec": {
      "name": "python3",
      "display_name": "Python 3"
    },
    "language_info": {
      "name": "python"
    }
  },
  "cells": [
    {
      "cell_type": "code",
      "execution_count": 1,
      "metadata": {
        "id": "zr5SwjNk_ABM"
      },
      "outputs": [],
      "source": [
        "import pandas as pd\n",
        "import csv\n",
        "import numpy as np\n",
        "from datetime import datetime, timedelta"
      ]
    },
    {
      "cell_type": "code",
      "source": [
        "from google.colab import drive\n",
        "drive.mount('/content/drive')"
      ],
      "metadata": {
        "colab": {
          "base_uri": "https://localhost:8080/"
        },
        "id": "ih_7MV9q_SXZ",
        "outputId": "f33de43b-2848-49e9-e095-416c80fb93a9"
      },
      "execution_count": 3,
      "outputs": [
        {
          "output_type": "stream",
          "name": "stdout",
          "text": [
            "Mounted at /content/drive\n"
          ]
        }
      ]
    },
    {
      "cell_type": "code",
      "source": [
        "df=pd.read_csv('/content/drive/MyDrive/Complaints (1).csv')\n",
        "df"
      ],
      "metadata": {
        "colab": {
          "base_uri": "https://localhost:8080/",
          "height": 835
        },
        "id": "yp_vXA4s_YEE",
        "outputId": "d2ff1ccd-c67d-484c-8599-06a6a928e169"
      },
      "execution_count": 10,
      "outputs": [
        {
          "output_type": "execute_result",
          "data": {
            "text/plain": [
              "                  CASE_ID      OFFER_NAME CUSTOMER_TYPE    CUSTOMER_GROUP  \\\n",
              "0      CAS-1060890-L3D6Q6       FTTH Home           CBU         FTTH Home   \n",
              "1       CAS-388567-W4B9Q3             NaN           CBU               NaN   \n",
              "2      CAS-1494939-L9F0X7  Bitstream Home           CBU  Wanadoo-ADSL-Res   \n",
              "3      CAS-1059985-K3Y9F7       FTTH Home           CBU         FTTH Home   \n",
              "4      CAS-1239942-Y1S2F5       FTTH Home           CBU         FTTH Home   \n",
              "...                   ...             ...           ...               ...   \n",
              "10410   CAS-549162-Y2F4X6  OnLine Prepaid           CBU           Prepaid   \n",
              "10411  CAS-1094578-B7J7Z0       FTTH Home           CBU         FTTH Home   \n",
              "10412   CAS-470088-Q3Y2V7  FTTB Corporate           EBU    FTTB Corporate   \n",
              "10413  CAS-1249800-V2H6C7  Bitstream Home           CBU  Wanadoo-ADSL-Res   \n",
              "10414   CAS-805076-V0F0N9  Bitstream Home           CBU  Wanadoo-ADSL-Res   \n",
              "\n",
              "      CURRENT_STATUS ESCALATION_FLAG ESCALATED_GROUP         OPEN_DATE  \\\n",
              "0           Resolved             Yes          F&I_BO  19.06.2022 06:07   \n",
              "1           Resolved             Yes       Mobile_BO  04.04.2022 14:11   \n",
              "2           Resolved              No             NaN  03.08.2022 03:20   \n",
              "3           Resolved              No             NaN  18.06.2022 20:38   \n",
              "4           Resolved              No             NaN  06.07.2022 01:22   \n",
              "...              ...             ...             ...               ...   \n",
              "10410       Resolved              No             NaN  23.04.2022 09:31   \n",
              "10411       Resolved              No             NaN  21.06.2022 19:40   \n",
              "10412       Resolved              No             NaN  14.04.2022 14:36   \n",
              "10413       Resolved              No             NaN  07.07.2022 05:54   \n",
              "10414       Resolved              No             NaN  22.05.2022 20:31   \n",
              "\n",
              "         OPEN_USER        CLOSE_DATE  ... AGE_BRACKET      ACTUAL_COMPLAINT  \\\n",
              "0             DANA  21.06.2022 13:41  ...         2.0      Actual Complaint   \n",
              "1      TCRMService  05.04.2022 12:13  ...         1.0  Not Actual Complaint   \n",
              "2           MOUTAZ  03.08.2022 03:20  ...         1.0       User Not Filled   \n",
              "3            MOATH  18.06.2022 20:38  ...         1.0       User Not Filled   \n",
              "4          IBRAHIM  06.07.2022 01:22  ...         1.0       User Not Filled   \n",
              "...            ...               ...  ...         ...                   ...   \n",
              "10410        ABRAR  23.04.2022 09:31  ...         1.0       User Not Filled   \n",
              "10411        AHMAD  21.06.2022 19:40  ...         1.0       User Not Filled   \n",
              "10412      YASMEEN  14.04.2022 14:36  ...         1.0       User Not Filled   \n",
              "10413      ALANOUD  07.07.2022 05:54  ...         1.0       User Not Filled   \n",
              "10414      HUSSEIN  22.05.2022 20:31  ...         1.0       User Not Filled   \n",
              "\n",
              "       CALLBACK_MECHANISM RESOLUTION RESOLUTION_DESCRIPTION CASE_DESC  \\\n",
              "0                   Phone        NaN                    NaN       NaN   \n",
              "1                   Phone        NaN                    NaN       NaN   \n",
              "2                     NaN        NaN                    NaN       NaN   \n",
              "3                     NaN        NaN                    NaN       NaN   \n",
              "4                     NaN        NaN                    NaN       NaN   \n",
              "...                   ...        ...                    ...       ...   \n",
              "10410                 NaN        NaN                    NaN       NaN   \n",
              "10411                 NaN        NaN                    NaN       NaN   \n",
              "10412                 NaN        NaN                    NaN       NaN   \n",
              "10413                 NaN        NaN                    NaN       NaN   \n",
              "10414                 NaN        NaN                    NaN       NaN   \n",
              "\n",
              "                         OPEN_GR COMPLAINT_TYPE   PRODUCT                 CASE  \n",
              "0      CBU / EBU - personal view      Technical  Internet  Technical complaint  \n",
              "1           System Administrator     Commercial    Mobile     Commercial claim  \n",
              "2          CBU - CC 1st Layer A       Technical  Internet  Technical complaint  \n",
              "3                            NaN      Technical  Internet  Technical complaint  \n",
              "4          CBU - CC 1st Layer A       Technical  Internet  Technical complaint  \n",
              "...                          ...            ...       ...                  ...  \n",
              "10410                        NaN     Commercial    Mobile     Commercial claim  \n",
              "10411      CBU - CC 1st Layer A       Technical  Internet  Technical complaint  \n",
              "10412      CBU - CC 1st Layer A       Technical  Internet  Technical complaint  \n",
              "10413      CBU - CC 1st Layer A       Technical  Internet  Technical complaint  \n",
              "10414                        NaN      Technical  Internet  Technical complaint  \n",
              "\n",
              "[10415 rows x 22 columns]"
            ],
            "text/html": [
              "\n",
              "  <div id=\"df-dd0e159e-4e5f-4d3b-a545-19e5608f487a\">\n",
              "    <div class=\"colab-df-container\">\n",
              "      <div>\n",
              "<style scoped>\n",
              "    .dataframe tbody tr th:only-of-type {\n",
              "        vertical-align: middle;\n",
              "    }\n",
              "\n",
              "    .dataframe tbody tr th {\n",
              "        vertical-align: top;\n",
              "    }\n",
              "\n",
              "    .dataframe thead th {\n",
              "        text-align: right;\n",
              "    }\n",
              "</style>\n",
              "<table border=\"1\" class=\"dataframe\">\n",
              "  <thead>\n",
              "    <tr style=\"text-align: right;\">\n",
              "      <th></th>\n",
              "      <th>CASE_ID</th>\n",
              "      <th>OFFER_NAME</th>\n",
              "      <th>CUSTOMER_TYPE</th>\n",
              "      <th>CUSTOMER_GROUP</th>\n",
              "      <th>CURRENT_STATUS</th>\n",
              "      <th>ESCALATION_FLAG</th>\n",
              "      <th>ESCALATED_GROUP</th>\n",
              "      <th>OPEN_DATE</th>\n",
              "      <th>OPEN_USER</th>\n",
              "      <th>CLOSE_DATE</th>\n",
              "      <th>...</th>\n",
              "      <th>AGE_BRACKET</th>\n",
              "      <th>ACTUAL_COMPLAINT</th>\n",
              "      <th>CALLBACK_MECHANISM</th>\n",
              "      <th>RESOLUTION</th>\n",
              "      <th>RESOLUTION_DESCRIPTION</th>\n",
              "      <th>CASE_DESC</th>\n",
              "      <th>OPEN_GR</th>\n",
              "      <th>COMPLAINT_TYPE</th>\n",
              "      <th>PRODUCT</th>\n",
              "      <th>CASE</th>\n",
              "    </tr>\n",
              "  </thead>\n",
              "  <tbody>\n",
              "    <tr>\n",
              "      <th>0</th>\n",
              "      <td>CAS-1060890-L3D6Q6</td>\n",
              "      <td>FTTH Home</td>\n",
              "      <td>CBU</td>\n",
              "      <td>FTTH Home</td>\n",
              "      <td>Resolved</td>\n",
              "      <td>Yes</td>\n",
              "      <td>F&amp;I_BO</td>\n",
              "      <td>19.06.2022 06:07</td>\n",
              "      <td>DANA</td>\n",
              "      <td>21.06.2022 13:41</td>\n",
              "      <td>...</td>\n",
              "      <td>2.0</td>\n",
              "      <td>Actual Complaint</td>\n",
              "      <td>Phone</td>\n",
              "      <td>NaN</td>\n",
              "      <td>NaN</td>\n",
              "      <td>NaN</td>\n",
              "      <td>CBU / EBU - personal view</td>\n",
              "      <td>Technical</td>\n",
              "      <td>Internet</td>\n",
              "      <td>Technical complaint</td>\n",
              "    </tr>\n",
              "    <tr>\n",
              "      <th>1</th>\n",
              "      <td>CAS-388567-W4B9Q3</td>\n",
              "      <td>NaN</td>\n",
              "      <td>CBU</td>\n",
              "      <td>NaN</td>\n",
              "      <td>Resolved</td>\n",
              "      <td>Yes</td>\n",
              "      <td>Mobile_BO</td>\n",
              "      <td>04.04.2022 14:11</td>\n",
              "      <td>TCRMService</td>\n",
              "      <td>05.04.2022 12:13</td>\n",
              "      <td>...</td>\n",
              "      <td>1.0</td>\n",
              "      <td>Not Actual Complaint</td>\n",
              "      <td>Phone</td>\n",
              "      <td>NaN</td>\n",
              "      <td>NaN</td>\n",
              "      <td>NaN</td>\n",
              "      <td>System Administrator</td>\n",
              "      <td>Commercial</td>\n",
              "      <td>Mobile</td>\n",
              "      <td>Commercial claim</td>\n",
              "    </tr>\n",
              "    <tr>\n",
              "      <th>2</th>\n",
              "      <td>CAS-1494939-L9F0X7</td>\n",
              "      <td>Bitstream Home</td>\n",
              "      <td>CBU</td>\n",
              "      <td>Wanadoo-ADSL-Res</td>\n",
              "      <td>Resolved</td>\n",
              "      <td>No</td>\n",
              "      <td>NaN</td>\n",
              "      <td>03.08.2022 03:20</td>\n",
              "      <td>MOUTAZ</td>\n",
              "      <td>03.08.2022 03:20</td>\n",
              "      <td>...</td>\n",
              "      <td>1.0</td>\n",
              "      <td>User Not Filled</td>\n",
              "      <td>NaN</td>\n",
              "      <td>NaN</td>\n",
              "      <td>NaN</td>\n",
              "      <td>NaN</td>\n",
              "      <td>CBU - CC 1st Layer A</td>\n",
              "      <td>Technical</td>\n",
              "      <td>Internet</td>\n",
              "      <td>Technical complaint</td>\n",
              "    </tr>\n",
              "    <tr>\n",
              "      <th>3</th>\n",
              "      <td>CAS-1059985-K3Y9F7</td>\n",
              "      <td>FTTH Home</td>\n",
              "      <td>CBU</td>\n",
              "      <td>FTTH Home</td>\n",
              "      <td>Resolved</td>\n",
              "      <td>No</td>\n",
              "      <td>NaN</td>\n",
              "      <td>18.06.2022 20:38</td>\n",
              "      <td>MOATH</td>\n",
              "      <td>18.06.2022 20:38</td>\n",
              "      <td>...</td>\n",
              "      <td>1.0</td>\n",
              "      <td>User Not Filled</td>\n",
              "      <td>NaN</td>\n",
              "      <td>NaN</td>\n",
              "      <td>NaN</td>\n",
              "      <td>NaN</td>\n",
              "      <td>NaN</td>\n",
              "      <td>Technical</td>\n",
              "      <td>Internet</td>\n",
              "      <td>Technical complaint</td>\n",
              "    </tr>\n",
              "    <tr>\n",
              "      <th>4</th>\n",
              "      <td>CAS-1239942-Y1S2F5</td>\n",
              "      <td>FTTH Home</td>\n",
              "      <td>CBU</td>\n",
              "      <td>FTTH Home</td>\n",
              "      <td>Resolved</td>\n",
              "      <td>No</td>\n",
              "      <td>NaN</td>\n",
              "      <td>06.07.2022 01:22</td>\n",
              "      <td>IBRAHIM</td>\n",
              "      <td>06.07.2022 01:22</td>\n",
              "      <td>...</td>\n",
              "      <td>1.0</td>\n",
              "      <td>User Not Filled</td>\n",
              "      <td>NaN</td>\n",
              "      <td>NaN</td>\n",
              "      <td>NaN</td>\n",
              "      <td>NaN</td>\n",
              "      <td>CBU - CC 1st Layer A</td>\n",
              "      <td>Technical</td>\n",
              "      <td>Internet</td>\n",
              "      <td>Technical complaint</td>\n",
              "    </tr>\n",
              "    <tr>\n",
              "      <th>...</th>\n",
              "      <td>...</td>\n",
              "      <td>...</td>\n",
              "      <td>...</td>\n",
              "      <td>...</td>\n",
              "      <td>...</td>\n",
              "      <td>...</td>\n",
              "      <td>...</td>\n",
              "      <td>...</td>\n",
              "      <td>...</td>\n",
              "      <td>...</td>\n",
              "      <td>...</td>\n",
              "      <td>...</td>\n",
              "      <td>...</td>\n",
              "      <td>...</td>\n",
              "      <td>...</td>\n",
              "      <td>...</td>\n",
              "      <td>...</td>\n",
              "      <td>...</td>\n",
              "      <td>...</td>\n",
              "      <td>...</td>\n",
              "      <td>...</td>\n",
              "    </tr>\n",
              "    <tr>\n",
              "      <th>10410</th>\n",
              "      <td>CAS-549162-Y2F4X6</td>\n",
              "      <td>OnLine Prepaid</td>\n",
              "      <td>CBU</td>\n",
              "      <td>Prepaid</td>\n",
              "      <td>Resolved</td>\n",
              "      <td>No</td>\n",
              "      <td>NaN</td>\n",
              "      <td>23.04.2022 09:31</td>\n",
              "      <td>ABRAR</td>\n",
              "      <td>23.04.2022 09:31</td>\n",
              "      <td>...</td>\n",
              "      <td>1.0</td>\n",
              "      <td>User Not Filled</td>\n",
              "      <td>NaN</td>\n",
              "      <td>NaN</td>\n",
              "      <td>NaN</td>\n",
              "      <td>NaN</td>\n",
              "      <td>NaN</td>\n",
              "      <td>Commercial</td>\n",
              "      <td>Mobile</td>\n",
              "      <td>Commercial claim</td>\n",
              "    </tr>\n",
              "    <tr>\n",
              "      <th>10411</th>\n",
              "      <td>CAS-1094578-B7J7Z0</td>\n",
              "      <td>FTTH Home</td>\n",
              "      <td>CBU</td>\n",
              "      <td>FTTH Home</td>\n",
              "      <td>Resolved</td>\n",
              "      <td>No</td>\n",
              "      <td>NaN</td>\n",
              "      <td>21.06.2022 19:40</td>\n",
              "      <td>AHMAD</td>\n",
              "      <td>21.06.2022 19:40</td>\n",
              "      <td>...</td>\n",
              "      <td>1.0</td>\n",
              "      <td>User Not Filled</td>\n",
              "      <td>NaN</td>\n",
              "      <td>NaN</td>\n",
              "      <td>NaN</td>\n",
              "      <td>NaN</td>\n",
              "      <td>CBU - CC 1st Layer A</td>\n",
              "      <td>Technical</td>\n",
              "      <td>Internet</td>\n",
              "      <td>Technical complaint</td>\n",
              "    </tr>\n",
              "    <tr>\n",
              "      <th>10412</th>\n",
              "      <td>CAS-470088-Q3Y2V7</td>\n",
              "      <td>FTTB Corporate</td>\n",
              "      <td>EBU</td>\n",
              "      <td>FTTB Corporate</td>\n",
              "      <td>Resolved</td>\n",
              "      <td>No</td>\n",
              "      <td>NaN</td>\n",
              "      <td>14.04.2022 14:36</td>\n",
              "      <td>YASMEEN</td>\n",
              "      <td>14.04.2022 14:36</td>\n",
              "      <td>...</td>\n",
              "      <td>1.0</td>\n",
              "      <td>User Not Filled</td>\n",
              "      <td>NaN</td>\n",
              "      <td>NaN</td>\n",
              "      <td>NaN</td>\n",
              "      <td>NaN</td>\n",
              "      <td>CBU - CC 1st Layer A</td>\n",
              "      <td>Technical</td>\n",
              "      <td>Internet</td>\n",
              "      <td>Technical complaint</td>\n",
              "    </tr>\n",
              "    <tr>\n",
              "      <th>10413</th>\n",
              "      <td>CAS-1249800-V2H6C7</td>\n",
              "      <td>Bitstream Home</td>\n",
              "      <td>CBU</td>\n",
              "      <td>Wanadoo-ADSL-Res</td>\n",
              "      <td>Resolved</td>\n",
              "      <td>No</td>\n",
              "      <td>NaN</td>\n",
              "      <td>07.07.2022 05:54</td>\n",
              "      <td>ALANOUD</td>\n",
              "      <td>07.07.2022 05:54</td>\n",
              "      <td>...</td>\n",
              "      <td>1.0</td>\n",
              "      <td>User Not Filled</td>\n",
              "      <td>NaN</td>\n",
              "      <td>NaN</td>\n",
              "      <td>NaN</td>\n",
              "      <td>NaN</td>\n",
              "      <td>CBU - CC 1st Layer A</td>\n",
              "      <td>Technical</td>\n",
              "      <td>Internet</td>\n",
              "      <td>Technical complaint</td>\n",
              "    </tr>\n",
              "    <tr>\n",
              "      <th>10414</th>\n",
              "      <td>CAS-805076-V0F0N9</td>\n",
              "      <td>Bitstream Home</td>\n",
              "      <td>CBU</td>\n",
              "      <td>Wanadoo-ADSL-Res</td>\n",
              "      <td>Resolved</td>\n",
              "      <td>No</td>\n",
              "      <td>NaN</td>\n",
              "      <td>22.05.2022 20:31</td>\n",
              "      <td>HUSSEIN</td>\n",
              "      <td>22.05.2022 20:31</td>\n",
              "      <td>...</td>\n",
              "      <td>1.0</td>\n",
              "      <td>User Not Filled</td>\n",
              "      <td>NaN</td>\n",
              "      <td>NaN</td>\n",
              "      <td>NaN</td>\n",
              "      <td>NaN</td>\n",
              "      <td>NaN</td>\n",
              "      <td>Technical</td>\n",
              "      <td>Internet</td>\n",
              "      <td>Technical complaint</td>\n",
              "    </tr>\n",
              "  </tbody>\n",
              "</table>\n",
              "<p>10415 rows × 22 columns</p>\n",
              "</div>\n",
              "      <button class=\"colab-df-convert\" onclick=\"convertToInteractive('df-dd0e159e-4e5f-4d3b-a545-19e5608f487a')\"\n",
              "              title=\"Convert this dataframe to an interactive table.\"\n",
              "              style=\"display:none;\">\n",
              "        \n",
              "  <svg xmlns=\"http://www.w3.org/2000/svg\" height=\"24px\"viewBox=\"0 0 24 24\"\n",
              "       width=\"24px\">\n",
              "    <path d=\"M0 0h24v24H0V0z\" fill=\"none\"/>\n",
              "    <path d=\"M18.56 5.44l.94 2.06.94-2.06 2.06-.94-2.06-.94-.94-2.06-.94 2.06-2.06.94zm-11 1L8.5 8.5l.94-2.06 2.06-.94-2.06-.94L8.5 2.5l-.94 2.06-2.06.94zm10 10l.94 2.06.94-2.06 2.06-.94-2.06-.94-.94-2.06-.94 2.06-2.06.94z\"/><path d=\"M17.41 7.96l-1.37-1.37c-.4-.4-.92-.59-1.43-.59-.52 0-1.04.2-1.43.59L10.3 9.45l-7.72 7.72c-.78.78-.78 2.05 0 2.83L4 21.41c.39.39.9.59 1.41.59.51 0 1.02-.2 1.41-.59l7.78-7.78 2.81-2.81c.8-.78.8-2.07 0-2.86zM5.41 20L4 18.59l7.72-7.72 1.47 1.35L5.41 20z\"/>\n",
              "  </svg>\n",
              "      </button>\n",
              "      \n",
              "  <style>\n",
              "    .colab-df-container {\n",
              "      display:flex;\n",
              "      flex-wrap:wrap;\n",
              "      gap: 12px;\n",
              "    }\n",
              "\n",
              "    .colab-df-convert {\n",
              "      background-color: #E8F0FE;\n",
              "      border: none;\n",
              "      border-radius: 50%;\n",
              "      cursor: pointer;\n",
              "      display: none;\n",
              "      fill: #1967D2;\n",
              "      height: 32px;\n",
              "      padding: 0 0 0 0;\n",
              "      width: 32px;\n",
              "    }\n",
              "\n",
              "    .colab-df-convert:hover {\n",
              "      background-color: #E2EBFA;\n",
              "      box-shadow: 0px 1px 2px rgba(60, 64, 67, 0.3), 0px 1px 3px 1px rgba(60, 64, 67, 0.15);\n",
              "      fill: #174EA6;\n",
              "    }\n",
              "\n",
              "    [theme=dark] .colab-df-convert {\n",
              "      background-color: #3B4455;\n",
              "      fill: #D2E3FC;\n",
              "    }\n",
              "\n",
              "    [theme=dark] .colab-df-convert:hover {\n",
              "      background-color: #434B5C;\n",
              "      box-shadow: 0px 1px 3px 1px rgba(0, 0, 0, 0.15);\n",
              "      filter: drop-shadow(0px 1px 2px rgba(0, 0, 0, 0.3));\n",
              "      fill: #FFFFFF;\n",
              "    }\n",
              "  </style>\n",
              "\n",
              "      <script>\n",
              "        const buttonEl =\n",
              "          document.querySelector('#df-dd0e159e-4e5f-4d3b-a545-19e5608f487a button.colab-df-convert');\n",
              "        buttonEl.style.display =\n",
              "          google.colab.kernel.accessAllowed ? 'block' : 'none';\n",
              "\n",
              "        async function convertToInteractive(key) {\n",
              "          const element = document.querySelector('#df-dd0e159e-4e5f-4d3b-a545-19e5608f487a');\n",
              "          const dataTable =\n",
              "            await google.colab.kernel.invokeFunction('convertToInteractive',\n",
              "                                                     [key], {});\n",
              "          if (!dataTable) return;\n",
              "\n",
              "          const docLinkHtml = 'Like what you see? Visit the ' +\n",
              "            '<a target=\"_blank\" href=https://colab.research.google.com/notebooks/data_table.ipynb>data table notebook</a>'\n",
              "            + ' to learn more about interactive tables.';\n",
              "          element.innerHTML = '';\n",
              "          dataTable['output_type'] = 'display_data';\n",
              "          await google.colab.output.renderOutput(dataTable, element);\n",
              "          const docLink = document.createElement('div');\n",
              "          docLink.innerHTML = docLinkHtml;\n",
              "          element.appendChild(docLink);\n",
              "        }\n",
              "      </script>\n",
              "    </div>\n",
              "  </div>\n",
              "  "
            ]
          },
          "metadata": {},
          "execution_count": 10
        }
      ]
    },
    {
      "cell_type": "code",
      "source": [
        "df = df.drop(columns=[\"CASE_ID\", \"RESOLUTION\", \"RESOLUTION_DESCRIPTION\", \"CASE_DESC\",'CALLBACK_MECHANISM'],axis=1)"
      ],
      "metadata": {
        "id": "m4YGsSu1_a6-"
      },
      "execution_count": 11,
      "outputs": []
    },
    {
      "cell_type": "code",
      "source": [
        "df.isnull().sum()"
      ],
      "metadata": {
        "colab": {
          "base_uri": "https://localhost:8080/"
        },
        "id": "0pRIvQzF_g-9",
        "outputId": "fa1070e7-0bbf-4e6e-f88c-7245f729a33d"
      },
      "execution_count": 12,
      "outputs": [
        {
          "output_type": "execute_result",
          "data": {
            "text/plain": [
              "OFFER_NAME            1293\n",
              "CUSTOMER_TYPE            0\n",
              "CUSTOMER_GROUP        1348\n",
              "CURRENT_STATUS           0\n",
              "ESCALATION_FLAG          0\n",
              "ESCALATED_GROUP       7055\n",
              "OPEN_DATE                0\n",
              "OPEN_USER              362\n",
              "CLOSE_DATE             119\n",
              "CLOSE_GROUP           4890\n",
              "CLOSE_USER             516\n",
              "AGE_BRACKET            119\n",
              "ACTUAL_COMPLAINT         0\n",
              "CALLBACK_MECHANISM    7277\n",
              "OPEN_GR               4561\n",
              "COMPLAINT_TYPE           0\n",
              "PRODUCT                  0\n",
              "CASE                     0\n",
              "dtype: int64"
            ]
          },
          "metadata": {},
          "execution_count": 12
        }
      ]
    },
    {
      "cell_type": "code",
      "source": [
        "mask = (df['ESCALATED_GROUP'] == 'Mobile_BO') |(df['ESCALATED_GROUP'] == 'CENTRALIZED_BACK_OFFICE') |(df['ESCALATED_GROUP'] == 'JOOD_DIGITAL_TEAM')& (df['PRODUCT'] == 'Mobile')\n",
        "mode = df[mask]['CUSTOMER_GROUP'].mode()[0]\n",
        "df.loc[mask, 'CUSTOMER_GROUP'] = df.loc[mask, 'CUSTOMER_GROUP'].fillna(mode)"
      ],
      "metadata": {
        "id": "3hMGoDF8_j4X"
      },
      "execution_count": 13,
      "outputs": []
    },
    {
      "cell_type": "code",
      "source": [
        "mask = (df['ESCALATED_GROUP'] == 'CYC_OUTBOUND_TEAM') |(df['ESCALATED_GROUP'] == 'Delivery_BO') |(df['ESCALATED_GROUP'] == 'Nokia_BO')|(df['ESCALATED_GROUP'] == 'F&I_BO')|(df['ESCALATED_GROUP'] == 'ITN-OSP complaints')|(df['ESCALATED_GROUP'] == 'Provisining_BO')& (df['PRODUCT'] == 'Internet')\n",
        "mode = df[mask]['CUSTOMER_GROUP'].mode()[0]\n",
        "df.loc[mask, 'CUSTOMER_GROUP'] = df.loc[mask, 'CUSTOMER_GROUP'].fillna(mode)"
      ],
      "metadata": {
        "id": "f0RhXbon_m76"
      },
      "execution_count": 14,
      "outputs": []
    },
    {
      "cell_type": "code",
      "source": [
        "mask = (df['ESCALATED_GROUP'] == 'CCU & FTTH field Sales') |(df['ESCALATED_GROUP'] == 'Collection_BO') |(df['ESCALATED_GROUP'] == 'Telesales_Sales_BO')|(df['ESCALATED_GROUP'] == 'CENTRALIZED_BACK_OFFICE')|(df['ESCALATED_GROUP'] == 'Disputes_BO')|(df['ESCALATED_GROUP'] == 'EBU_COMPLAINTS_BO')|(df['ESCALATED_GROUP'] == 'Refund_M&I_BO')& (df['COMPLAINT_TYPE'] == 'Commercial')\n",
        "mode = df[mask]['CUSTOMER_GROUP'].mode()[0]\n",
        "df.loc[mask, 'CUSTOMER_GROUP'] = df.loc[mask, 'CUSTOMER_GROUP'].fillna(mode)"
      ],
      "metadata": {
        "id": "arG0iCCu_p8Z"
      },
      "execution_count": 15,
      "outputs": []
    },
    {
      "cell_type": "code",
      "source": [
        "mask = (df['ESCALATED_GROUP'] == 'Enterprise CC') & (df['COMPLAINT_TYPE'] == 'Technical')\n",
        "mode = df[mask]['CUSTOMER_GROUP'].mode()[0]\n",
        "df.loc[mask, 'CUSTOMER_GROUP'] = df.loc[mask, 'CUSTOMER_GROUP'].fillna(mode)"
      ],
      "metadata": {
        "id": "ty-Ir-4-_vhV"
      },
      "execution_count": 16,
      "outputs": []
    },
    {
      "cell_type": "code",
      "source": [
        "mask = (df['ESCALATED_GROUP'] == 'Risk_BO') & (df['CASE'] == 'Commercial claim')\n",
        "mode = df[mask]['CUSTOMER_GROUP'].mode()[0]\n",
        "df.loc[mask, 'CUSTOMER_GROUP'] = df.loc[mask, 'CUSTOMER_GROUP'].fillna(mode)"
      ],
      "metadata": {
        "id": "nSWBWbWW_xw0"
      },
      "execution_count": 17,
      "outputs": []
    },
    {
      "cell_type": "code",
      "source": [
        "df = df.dropna(how='any', subset=['CUSTOMER_GROUP'])"
      ],
      "metadata": {
        "id": "cAQI9CKE_z9t"
      },
      "execution_count": 18,
      "outputs": []
    },
    {
      "cell_type": "code",
      "source": [
        "mask = df['CUSTOMER_GROUP'].isin(['SME Post-Hybrid','SME Post-Hybrid','PreCorp Customers','KA-HYPRID','Corporate Large Account','KA-POST','MobileCom Test Lines','Government Precorp','LNA-POST','Data Only - M2M','Prepaid'])& (df['PRODUCT'] == 'Mobile')\n",
        "mode = df[mask]['OFFER_NAME'].mode()[0]\n",
        "df.loc[mask, 'OFFER_NAME'] = df.loc[mask, 'OFFER_NAME'].fillna(mode)"
      ],
      "metadata": {
        "id": "KH8JrffoEEAV"
      },
      "execution_count": 19,
      "outputs": []
    },
    {
      "cell_type": "code",
      "source": [
        "mask = df['CUSTOMER_GROUP'].isin(['Army. APVPN Enterprise','Family GOV internet','Family GOV internet','Family Loyalty Internet','Fiber Loyalty','FTTH Home','FTTB Corporate','IP Test','OL campaigns','Prepaid','Previous Orange Fund','Pro Convergent Internet','SME Post-Hybrid','Wanadoo-ADSL-Res'])& (df['PRODUCT'] == 'Internet')\n",
        "mode = df[mask]['OFFER_NAME'].mode()[0]\n",
        "df.loc[mask, 'OFFER_NAME'] = df.loc[mask, 'OFFER_NAME'].fillna(mode)"
      ],
      "metadata": {
        "id": "mRnUehnx7Aaz"
      },
      "execution_count": 20,
      "outputs": []
    },
    {
      "cell_type": "code",
      "source": [
        "mask = df['CUSTOMER_GROUP'].isin(['SME Post-Hybrid','SME Post-Hybrid','PreCorp Customers','KA-HYPRID','Corporate Large Account','KA-POST','MobileCom Test Lines','Government Precorp','LNA-POST','Data Only - M2M','Prepaid'])& (df['PRODUCT'] == 'Mobile')\n",
        "mode = df[mask]['OFFER_NAME'].mode()[0]\n",
        "df.loc[mask, 'OFFER_NAME'] = df.loc[mask, 'OFFER_NAME'].fillna(mode)\n"
      ],
      "metadata": {
        "id": "nicLWAbK6z_K"
      },
      "execution_count": 21,
      "outputs": []
    },
    {
      "cell_type": "code",
      "source": [
        "df['CLOSE_DATE'] = pd.to_datetime(df['CLOSE_DATE'], errors='coerce')\n",
        "df = df.dropna(subset=['CLOSE_DATE'])\n",
        "df['CLOSE_DATE'].fillna(pd.to_datetime('1999-01-01'), inplace=True)\n",
        "df['AGE_BRACKET'].fillna(-1, inplace = True)"
      ],
      "metadata": {
        "id": "p21N5XU37MW9",
        "colab": {
          "base_uri": "https://localhost:8080/"
        },
        "outputId": "aec2114e-a67c-44dd-b53d-1be675f4e13c"
      },
      "execution_count": 22,
      "outputs": [
        {
          "output_type": "stream",
          "name": "stderr",
          "text": [
            "/usr/local/lib/python3.8/dist-packages/pandas/core/generic.py:6392: SettingWithCopyWarning: \n",
            "A value is trying to be set on a copy of a slice from a DataFrame\n",
            "\n",
            "See the caveats in the documentation: https://pandas.pydata.org/pandas-docs/stable/user_guide/indexing.html#returning-a-view-versus-a-copy\n",
            "  return self._update_inplace(result)\n"
          ]
        }
      ]
    },
    {
      "cell_type": "code",
      "source": [
        "df[\"OPEN_USER\"].fillna(df[\"OPEN_USER\"].mode()[0], inplace=True)\n",
        "df[\"CLOSE_USER\"].fillna(df[\"CLOSE_USER\"].mode()[0], inplace=True)"
      ],
      "metadata": {
        "id": "XCmsdgPC7RKT"
      },
      "execution_count": 23,
      "outputs": []
    },
    {
      "cell_type": "code",
      "source": [],
      "metadata": {
        "id": "JFXGJyM61w2G"
      },
      "execution_count": 24,
      "outputs": []
    },
    {
      "cell_type": "code",
      "source": [
        "most_common_value = df.groupby('CLOSE_USER')['CLOSE_GROUP'].agg(pd.Series.mode).to_dict()\n",
        "\n",
        "\n",
        "df['OPEN_GR']= df['OPEN_GR'].fillna(df.groupby('OPEN_USER')['OPEN_GR'].agg(pd.Series.mode)).to_dict()\n",
        "\n",
        "df.loc[df['OPEN_GR'].isnull(), 'OPEN_GR'] = df['OPEN_USER'].map(most_common_value)\n",
        "df['CLOSE_USER'] = df['CLOSE_USER'].fillna(df['CLOSE_USER'].mode().iloc[0])\n",
        "df['CLOSE_GROUP'] = df['CLOSE_GROUP'].fillna(df['CLOSE_GROUP'].mode().iloc[0])"
      ],
      "metadata": {
        "id": "JLVxExip7VK0"
      },
      "execution_count": 92,
      "outputs": []
    },
    {
      "cell_type": "code",
      "source": [
        "#df['CALLBACK_MECHANISM'] = df['CALLBACK_MECHANISM'].mode().iloc[0]"
      ],
      "metadata": {
        "id": "6D7JtQOQ7cXz"
      },
      "execution_count": 93,
      "outputs": []
    },
    {
      "cell_type": "code",
      "source": [
        "from sklearn.metrics import accuracy_score, confusion_matrix\n",
        "from sklearn.model_selection import train_test_split\n",
        "from sklearn.neighbors import KNeighborsClassifier\n",
        "from sklearn.preprocessing import LabelEncoder\n"
      ],
      "metadata": {
        "id": "JcDu52TT8AWA"
      },
      "execution_count": 94,
      "outputs": []
    },
    {
      "cell_type": "code",
      "source": [
        "x = ['OFFER_NAME','CUSTOMER_TYPE','CUSTOMER_GROUP',' CURRENT_STATUS','ESCALATION_FLAG','ESCALATED_GROUP','OPEN_DATE','OPEN_USER','CLOSE_DATE','CLOSE_GROUP','CLOSE_USER','AGE_BRACKET','ACTUAL_COMPLAINT','CALLBACK_MECHANISM','OPEN_GR','COMPLAINT_TYPE','PRODUCT','CASE']"
      ],
      "metadata": {
        "id": "BglkE0rQ7om3"
      },
      "execution_count": 95,
      "outputs": []
    },
    {
      "cell_type": "code",
      "source": [
        "cat_columns = df.select_dtypes(['object']).columns\n",
        "cat_columns1 = df.select_dtypes(['datetime64[ns]']).columns\n",
        "encoder = LabelEncoder()\n",
        "df[cat_columns] = df[cat_columns].apply(LabelEncoder().fit_transform)\n",
        "df[cat_columns1] = df[cat_columns1].apply(LabelEncoder().fit_transform)\n"
      ],
      "metadata": {
        "id": "oQM4zAVx7sqB"
      },
      "execution_count": 96,
      "outputs": []
    },
    {
      "cell_type": "code",
      "source": [
        "X = df.drop(columns = 'PRODUCT')\n",
        "y = df['PRODUCT']"
      ],
      "metadata": {
        "id": "hi5e-lIz8Iba"
      },
      "execution_count": 97,
      "outputs": []
    },
    {
      "cell_type": "code",
      "source": [
        "\n",
        "from sklearn.model_selection import train_test_split\n",
        "X_train, X_test, y_train, y_test = train_test_split(X, y, test_size=0.2,random_state=0)"
      ],
      "metadata": {
        "id": "3ln6wW6n8KfI"
      },
      "execution_count": 98,
      "outputs": []
    },
    {
      "cell_type": "code",
      "source": [
        "from sklearn.neighbors import KNeighborsClassifier\n",
        "\n",
        "classifer = KNeighborsClassifier(n_neighbors=3 )\n",
        "\n",
        "classifer.fit(X_train,y_train)\n",
        "\n",
        "y_pred= classifer.predict(X_test)"
      ],
      "metadata": {
        "id": "A6tubXS58MN2"
      },
      "execution_count": 99,
      "outputs": []
    },
    {
      "cell_type": "code",
      "source": [
        "accuracies = []\n",
        "for i in range(50):\n",
        "    X_train, X_test, y_train, y_test = train_test_split(X, y, test_size=0.2)\n",
        "    \n",
        "    classifer.fit(X_train, y_train)\n",
        "    \n",
        "    y_pred = classifer.predict(X_test)\n",
        "    \n",
        "    accuracy = accuracy_score(y_test, y_pred)\n",
        "    accuracies.append(accuracy)\n",
        "\n",
        "average_accuracy = sum(accuracies) / len(accuracies)\n",
        "print(\"Average accuracy: \", average_accuracy)"
      ],
      "metadata": {
        "colab": {
          "base_uri": "https://localhost:8080/"
        },
        "id": "GYnyir8f78b6",
        "outputId": "65abb32e-1058-46a9-90f9-d79c02af724e"
      },
      "execution_count": 100,
      "outputs": [
        {
          "output_type": "stream",
          "name": "stdout",
          "text": [
            "Average accuracy:  0.8787683284457473\n"
          ]
        }
      ]
    }
  ]
}